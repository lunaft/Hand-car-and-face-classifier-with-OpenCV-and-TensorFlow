{
 "cells": [
  {
   "attachments": {},
   "cell_type": "markdown",
   "metadata": {},
   "source": [
    "# Face Detection Program\n",
    "\n",
    "It is a program that openCV to identify and recognize faces in images and videos in real time. This is ideal for improving security, personalizing customer interaction and optimizing processes."
   ]
  },
  {
   "cell_type": "code",
   "execution_count": 4,
   "metadata": {},
   "outputs": [],
   "source": [
    "import cv2\n",
    "import numpy as np\n",
    "\n",
    "face_cascade = cv2.CascadeClassifier('/Users/luna/Documents/Hand-car-and-face-classifier-with-OpenCV-and-TensorFlow/haarcascade_frontalface_default.xml')"
   ]
  },
  {
   "cell_type": "code",
   "execution_count": 5,
   "metadata": {},
   "outputs": [],
   "source": [
    "cap = cv2.VideoCapture(0) ##Reference to activate the webcam"
   ]
  },
  {
   "cell_type": "code",
   "execution_count": 6,
   "metadata": {},
   "outputs": [],
   "source": [
    "while True:\n",
    "    _, img = cap.read() #read every frame of the webcam video\n",
    "    gray = cv2.cvtColor(img, cv2.COLOR_BGR2GRAY) #convert frame to gray\n",
    "    faces = face_cascade.detectMultiScale(gray,1.1,4) #detect all possible faces\n",
    "    for (x,y,w,h) in faces: #draw a square on the faces it detects\n",
    "        cv2.rectangle(img,(x,y),(x+w,y+h),(255,0,0),2)\n",
    "        #(255,0,0) is the blue color of the lines of the square\n",
    "        # 2 is the thickness of the square\n",
    "    cv2.imshow('img',img)\n",
    "    \n",
    "    k= cv2.waitKey(30) #closing the program by pressing the esc key\n",
    "    if k == 27:\n",
    "        break\n",
    "\n",
    "cap.release() ##cerrar el programa pulsando la tecla esc\n",
    "cv2.destroyAllWindows() "
   ]
  },
  {
   "attachments": {},
   "cell_type": "markdown",
   "metadata": {},
   "source": [
    "# Car Identification Program\n",
    "\n",
    "We can also use OpenCV to identify cars in a video. This can be very useful for traffic control in big cities."
   ]
  },
  {
   "cell_type": "code",
   "execution_count": 8,
   "metadata": {},
   "outputs": [],
   "source": [
    "car_cascade = cv2.CascadeClassifier('/Users/luna/Documents/Hand-car-and-face-classifier-with-OpenCV-and-TensorFlow/cars.xml')\n",
    "\n",
    "cap = cv2.VideoCapture('/Users/luna/Documents/Hand-car-and-face-classifier-with-OpenCV-and-TensorFlow/cars.mp4')\n",
    "\n",
    "while True:\n",
    "    ret, img = cap.read() \n",
    "    if not ret:\n",
    "        break \n",
    "\n",
    "    gray = cv2.cvtColor(img, cv2.COLOR_BGR2GRAY)\n",
    "    cars = car_cascade.detectMultiScale(gray, 1.1, 1)\n",
    "    for (x, y, w, h) in cars:\n",
    "        cv2.rectangle(img, (x, y), (x+w, y+h), (255, 0, 0), 2)\n",
    "    cv2.imshow('Detecting cars', img)\n",
    "\n",
    "    if cv2.waitKey(30) == 27:\n",
    "        break\n",
    "cap.release()\n",
    "cv2.destroyAllWindows()"
   ]
  }
 ],
 "metadata": {
  "kernelspec": {
   "display_name": "Python 3",
   "language": "python",
   "name": "python3"
  },
  "language_info": {
   "codemirror_mode": {
    "name": "ipython",
    "version": 3
   },
   "file_extension": ".py",
   "mimetype": "text/x-python",
   "name": "python",
   "nbconvert_exporter": "python",
   "pygments_lexer": "ipython3",
   "version": "3.11.5 (v3.11.5:cce6ba91b3, Aug 24 2023, 10:50:31) [Clang 13.0.0 (clang-1300.0.29.30)]"
  },
  "orig_nbformat": 4,
  "vscode": {
   "interpreter": {
    "hash": "aee8b7b246df8f9039afb4144a1f6fd8d2ca17a180786b69acc140d282b71a49"
   }
  }
 },
 "nbformat": 4,
 "nbformat_minor": 2
}
