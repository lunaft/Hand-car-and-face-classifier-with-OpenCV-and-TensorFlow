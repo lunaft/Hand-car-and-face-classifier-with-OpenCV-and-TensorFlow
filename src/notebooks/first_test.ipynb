{
 "cells": [
  {
   "attachments": {},
   "cell_type": "markdown",
   "metadata": {},
   "source": [
    "# Face Detection Program\n",
    "\n",
    "It is a program that openCV to identify and recognize faces in images and videos in real time. This is ideal for improving security, personalizing customer interaction and optimizing processes."
   ]
  },
  {
   "cell_type": "code",
   "execution_count": 5,
   "metadata": {},
   "outputs": [],
   "source": [
    "import cv2\n",
    "import numpy as np\n",
    "\n",
    "face_cascade = cv2.CascadeClassifier('/Users/lunaflorestorres/Desktop/tensor/haarcascade_frontalface_default.xml')"
   ]
  },
  {
   "cell_type": "code",
   "execution_count": 6,
   "metadata": {},
   "outputs": [
    {
     "name": "stderr",
     "output_type": "stream",
     "text": [
      "OpenCV: not authorized to capture video (status 0), requesting...\n",
      "OpenCV: camera failed to properly initialize!\n"
     ]
    }
   ],
   "source": [
    "cap = cv2.VideoCapture(0) ##Reference to activate the webcam"
   ]
  },
  {
   "cell_type": "code",
   "execution_count": 7,
   "metadata": {},
   "outputs": [
    {
     "ename": "error",
     "evalue": "OpenCV(4.9.0) /Users/runner/work/opencv-python/opencv-python/opencv/modules/imgproc/src/color.cpp:196: error: (-215:Assertion failed) !_src.empty() in function 'cvtColor'\n",
     "output_type": "error",
     "traceback": [
      "\u001b[0;31m---------------------------------------------------------------------------\u001b[0m",
      "\u001b[0;31merror\u001b[0m                                     Traceback (most recent call last)",
      "Cell \u001b[0;32mIn[7], line 3\u001b[0m\n\u001b[1;32m      1\u001b[0m \u001b[38;5;28;01mwhile\u001b[39;00m \u001b[38;5;28;01mTrue\u001b[39;00m:\n\u001b[1;32m      2\u001b[0m     _, img \u001b[38;5;241m=\u001b[39m cap\u001b[38;5;241m.\u001b[39mread() \u001b[38;5;66;03m#read every frame of the webcam video\u001b[39;00m\n\u001b[0;32m----> 3\u001b[0m     gray \u001b[38;5;241m=\u001b[39m \u001b[43mcv2\u001b[49m\u001b[38;5;241;43m.\u001b[39;49m\u001b[43mcvtColor\u001b[49m\u001b[43m(\u001b[49m\u001b[43mimg\u001b[49m\u001b[43m,\u001b[49m\u001b[43m \u001b[49m\u001b[43mcv2\u001b[49m\u001b[38;5;241;43m.\u001b[39;49m\u001b[43mCOLOR_BGR2GRAY\u001b[49m\u001b[43m)\u001b[49m \u001b[38;5;66;03m#convert frame to gray\u001b[39;00m\n\u001b[1;32m      4\u001b[0m     faces \u001b[38;5;241m=\u001b[39m face_cascade\u001b[38;5;241m.\u001b[39mdetectMultiScale(gray,\u001b[38;5;241m1.1\u001b[39m,\u001b[38;5;241m4\u001b[39m) \u001b[38;5;66;03m#detect all possible faces\u001b[39;00m\n\u001b[1;32m      5\u001b[0m     \u001b[38;5;28;01mfor\u001b[39;00m (x,y,w,h) \u001b[38;5;129;01min\u001b[39;00m faces: \u001b[38;5;66;03m#draw a square on the faces it detects\u001b[39;00m\n",
      "\u001b[0;31merror\u001b[0m: OpenCV(4.9.0) /Users/runner/work/opencv-python/opencv-python/opencv/modules/imgproc/src/color.cpp:196: error: (-215:Assertion failed) !_src.empty() in function 'cvtColor'\n"
     ]
    }
   ],
   "source": [
    "while True:\n",
    "    _, img = cap.read() #read every frame of the webcam video\n",
    "    gray = cv2.cvtColor(img, cv2.COLOR_BGR2GRAY) #convert frame to gray\n",
    "    faces = face_cascade.detectMultiScale(gray,1.1,4) #detect all possible faces\n",
    "    for (x,y,w,h) in faces: #draw a square on the faces it detects\n",
    "        cv2.rectangle(img,(x,y),(x+w,y+h),(255,0,0),2)\n",
    "        #(255,0,0) is the blue color of the lines of the square\n",
    "        # 2 is the thickness of the square\n",
    "    cv2.imshow('img',img)\n",
    "    \n",
    "    k= cv2.waitKey(30) #closing the program by pressing the esc key\n",
    "    if k == 27:\n",
    "        break\n",
    "\n",
    "cap.release() ##cerrar el programa pulsando la tecla esc\n",
    "cv2.destroyAllWindows() "
   ]
  },
  {
   "cell_type": "code",
   "execution_count": 8,
   "metadata": {},
   "outputs": [],
   "source": [
    "import cv2\n",
    "\n",
    "# Inicializar el objeto de captura de la cámara\n",
    "cap = cv2.VideoCapture(0)\n",
    "\n",
    "# Verificar si la cámara se abrió correctamente\n",
    "if not cap.isOpened():\n",
    "    print(\"Error al abrir la cámara\")\n",
    "    exit()\n",
    "\n",
    "# Crear un objeto para detectar caras\n",
    "face_cascade = cv2.CascadeClassifier(cv2.data.haarcascades + 'haarcascade_frontalface_default.xml')\n",
    "\n",
    "while True:\n",
    "    # Leer cada fotograma de video desde la cámara\n",
    "    ret, img = cap.read()\n",
    "    \n",
    "    # Verificar si se pudo leer el fotograma correctamente\n",
    "    if not ret:\n",
    "        print(\"Error al leer el fotograma\")\n",
    "        break\n",
    "\n",
    "    # Convertir el fotograma a escala de grises\n",
    "    gray = cv2.cvtColor(img, cv2.COLOR_BGR2GRAY)\n",
    "\n",
    "    # Detectar caras en el fotograma\n",
    "    faces = face_cascade.detectMultiScale(gray, 1.1, 4)\n",
    "\n",
    "    # Dibujar un rectángulo alrededor de cada cara detectada\n",
    "    for (x, y, w, h) in faces:\n",
    "        cv2.rectangle(img, (x, y), (x+w, y+h), (255, 0, 0), 2)\n",
    "\n",
    "    # Mostrar la imagen con las caras detectadas\n",
    "    cv2.imshow('img', img)\n",
    "    \n",
    "    # Cerrar el programa al presionar la tecla 'esc'\n",
    "    k = cv2.waitKey(30)\n",
    "    if k == 27:\n",
    "        break\n",
    "\n",
    "# Liberar el objeto de captura y cerrar todas las ventanas\n",
    "cap.release()\n",
    "cv2.destroyAllWindows()\n"
   ]
  },
  {
   "attachments": {},
   "cell_type": "markdown",
   "metadata": {},
   "source": [
    "# Car Identification Program\n",
    "\n",
    "We can also use OpenCV to identify cars in a video. This can be very useful for traffic control in big cities."
   ]
  },
  {
   "cell_type": "code",
   "execution_count": 9,
   "metadata": {},
   "outputs": [],
   "source": [
    "car_cascade = cv2.CascadeClassifier('/Users/lunaflorestorres/Desktop/tensor/cars.xml')\n",
    "\n",
    "cap = cv2.VideoCapture('/Users/lunaflorestorres/Desktop/tensor/cars.mp4')\n",
    "\n",
    "while True:\n",
    "    ret, img = cap.read() \n",
    "    if not ret:\n",
    "        break \n",
    "\n",
    "    gray = cv2.cvtColor(img, cv2.COLOR_BGR2GRAY)\n",
    "    cars = car_cascade.detectMultiScale(gray, 1.1, 1)\n",
    "    for (x, y, w, h) in cars:\n",
    "        cv2.rectangle(img, (x, y), (x+w, y+h), (255, 0, 0), 2)\n",
    "    cv2.imshow('Detecting cars', img)\n",
    "\n",
    "    if cv2.waitKey(30) == 27:\n",
    "        break\n",
    "cap.release()\n",
    "cv2.destroyAllWindows()"
   ]
  }
 ],
 "metadata": {
  "kernelspec": {
   "display_name": "Python 3",
   "language": "python",
   "name": "python3"
  },
  "language_info": {
   "codemirror_mode": {
    "name": "ipython",
    "version": 3
   },
   "file_extension": ".py",
   "mimetype": "text/x-python",
   "name": "python",
   "nbconvert_exporter": "python",
   "pygments_lexer": "ipython3",
   "version": "3.11.6"
  },
  "orig_nbformat": 4,
  "vscode": {
   "interpreter": {
    "hash": "aee8b7b246df8f9039afb4144a1f6fd8d2ca17a180786b69acc140d282b71a49"
   }
  }
 },
 "nbformat": 4,
 "nbformat_minor": 2
}
